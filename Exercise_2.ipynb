{
  "nbformat": 4,
  "nbformat_minor": 0,
  "metadata": {
    "kernelspec": {
      "display_name": "Python 3",
      "language": "python",
      "name": "python3"
    },
    "language_info": {
      "codemirror_mode": {
        "name": "ipython",
        "version": 3
      },
      "file_extension": ".py",
      "mimetype": "text/x-python",
      "name": "python",
      "nbconvert_exporter": "python",
      "pygments_lexer": "ipython3",
      "version": "3.6.8"
    },
    "colab": {
      "name": "Exercise 2.ipynb",
      "provenance": [],
      "include_colab_link": true
    }
  },
  "cells": [
    {
      "cell_type": "markdown",
      "metadata": {
        "id": "view-in-github",
        "colab_type": "text"
      },
      "source": [
        "<a href=\"https://colab.research.google.com/github/bilgin-kocak/fenics-tutorials-anders-logg/blob/master/Exercise_2.ipynb\" target=\"_parent\"><img src=\"https://colab.research.google.com/assets/colab-badge.svg\" alt=\"Open In Colab\"/></a>"
      ]
    },
    {
      "cell_type": "markdown",
      "metadata": {
        "id": "HkKHAKZYmu3X",
        "colab_type": "text"
      },
      "source": [
        "# Exercise 2: Solving the Poisson Equation\n",
        "![image.png](attachment:image.png)"
      ]
    },
    {
      "cell_type": "markdown",
      "metadata": {
        "id": "X7rvqpn_mu3Y",
        "colab_type": "text"
      },
      "source": [
        "In this exercise, we will solve the Poisson equation with FEniCS:\n",
        "\n",
        "\\begin{alignat}{2}\n",
        "-\\Delta u &= f \\quad && \\text{ in } \\Omega \\\\\n",
        "u &= u_{\\mathrm{D}} \\quad && \\text{ on } \\Gamma_{\\mathrm{D}} \\\\\n",
        "-\\partial_n u &= g \\quad && \\text{ on } \\Gamma_{\\mathrm{N}}\n",
        "\\end{alignat}\n",
        "\n",
        "We will use the following data:\n",
        "\n",
        "* $\\Omega = (S_0 \\cup S_1) \\setminus (C_0 \\cup C_1)$\n",
        "* $S_0$ is the unit square centered at $(0.5, 0.5)$\n",
        "* $S_1$ is the unit square centered at $(1, 1)$\n",
        "* $C_0$ is a circle with radius $0.25$ centered at $(0.5, 0.5)$\n",
        "* $C_1$ is a circle with radius $0.25$ centered at $(1, 1)$\n",
        "* $\\Gamma_{\\mathrm{D}} = $ the boundaries of the two circles\n",
        "* $\\Gamma_{\\mathrm{N}} = \\partial\\Omega \\setminus \\Gamma_{\\mathrm{D}}$\n",
        "* $f(x, y) = \\exp(-10((x - 0.75)^2 + (y - 0.75)^2))$\n",
        "* $u_{\\mathrm{D}} = 0$\n",
        "* $g = 0$\n",
        "\n",
        "![poisson_domains.png](attachment:poisson_domains.png)\n",
        "\n",
        "For hints and more reading on how to solve the Poisson problem in FEniCS, see the [section on the Poisson problem](https://fenicsproject.org/pub/tutorial/html/._ftut1004.html#ch:fundamentals) in the [FEniCS Tutorial](https://fenicsproject.org/tutorial/)."
      ]
    },
    {
      "cell_type": "markdown",
      "metadata": {
        "id": "hDQtHYzXmu3a",
        "colab_type": "text"
      },
      "source": [
        "## Importing FEniCS\n",
        "The first thing we need to do is to import FEniCS. We will also need to import the meshing library `mshr`."
      ]
    },
    {
      "cell_type": "code",
      "metadata": {
        "id": "xcPIxoFvnXF1",
        "colab_type": "code",
        "colab": {
          "base_uri": "https://localhost:8080/",
          "height": 1000
        },
        "outputId": "f3e5f265-1807-442d-a145-80fa872105e7"
      },
      "source": [
        "# Installing and Importing Fenics\n",
        "from google.colab import files\n",
        "\n",
        "import platform, sys\n",
        "python_version=platform.python_version()\n",
        "from distutils.version import LooseVersion, StrictVersion\n",
        "\n",
        "if ( LooseVersion(python_version) < LooseVersion(\"3.0.0\")):\n",
        "    print(\"Python3 is needed!\");\n",
        "    print(\"How to fix: Runtime/Change_runtime_type/Python 3\");\n",
        "    sys.exit()\n",
        "try:\n",
        "    from dolfin import *; from mshr import *\n",
        "except ImportError as e:\n",
        "    !apt-get install -y -qq software-properties-common python-software-properties module-init-tools\n",
        "    !add-apt-repository -y ppa:fenics-packages/fenics\n",
        "    !apt-get update -qq\n",
        "    !apt install -y --no-install-recommends fenics\n",
        "    from dolfin import *; from mshr import *\n",
        "    \n",
        "import matplotlib.pyplot as plt;\n",
        "from IPython.display import clear_output, display; import time; import dolfin.common.plotting as fenicsplot \n",
        "import time\n",
        "\n",
        "import os, sys, shutil\n",
        "\n",
        "dolfin_version = dolfin.__version__\n",
        "print ('dolfin version:', dolfin_version)\n",
        "\n",
        "!rm -rf * # clean up all files\n",
        "# Useful commands\n",
        "# Remove an empty folder      : os.rmdir(\"my_results\")\n",
        "# Remove a folder with files  : shutil.rmtree(\"results\")\n",
        "# Make a folder               : os.mkdir(\"my_results\")\n",
        "# Runtime/Change_runtime_type/Python3"
      ],
      "execution_count": null,
      "outputs": [
        {
          "output_type": "stream",
          "text": [
            "E: Package 'python-software-properties' has no installation candidate\n",
            "Ign:1 https://developer.download.nvidia.com/compute/cuda/repos/ubuntu1804/x86_64  InRelease\n",
            "Get:2 https://cloud.r-project.org/bin/linux/ubuntu bionic-cran35/ InRelease [3,626 B]\n",
            "Get:3 http://security.ubuntu.com/ubuntu bionic-security InRelease [88.7 kB]\n",
            "Hit:4 http://archive.ubuntu.com/ubuntu bionic InRelease\n",
            "Ign:5 https://developer.download.nvidia.com/compute/machine-learning/repos/ubuntu1804/x86_64  InRelease\n",
            "Get:6 https://developer.download.nvidia.com/compute/cuda/repos/ubuntu1804/x86_64  Release [697 B]\n",
            "Hit:7 https://developer.download.nvidia.com/compute/machine-learning/repos/ubuntu1804/x86_64  Release\n",
            "Get:8 https://developer.download.nvidia.com/compute/cuda/repos/ubuntu1804/x86_64  Release.gpg [836 B]\n",
            "Get:9 http://ppa.launchpad.net/fenics-packages/fenics/ubuntu bionic InRelease [15.4 kB]\n",
            "Get:10 http://archive.ubuntu.com/ubuntu bionic-updates InRelease [88.7 kB]\n",
            "Get:11 http://archive.ubuntu.com/ubuntu bionic-backports InRelease [74.6 kB]\n",
            "Hit:12 http://ppa.launchpad.net/graphics-drivers/ppa/ubuntu bionic InRelease\n",
            "Get:14 http://ppa.launchpad.net/marutter/c2d4u3.5/ubuntu bionic InRelease [15.4 kB]\n",
            "Ign:15 https://developer.download.nvidia.com/compute/cuda/repos/ubuntu1804/x86_64  Packages\n",
            "Get:15 https://developer.download.nvidia.com/compute/cuda/repos/ubuntu1804/x86_64  Packages [255 kB]\n",
            "Get:16 http://security.ubuntu.com/ubuntu bionic-security/universe amd64 Packages [882 kB]\n",
            "Get:17 http://ppa.launchpad.net/fenics-packages/fenics/ubuntu bionic/main amd64 Packages [5,700 B]\n",
            "Get:18 http://archive.ubuntu.com/ubuntu bionic-updates/multiverse amd64 Packages [27.1 kB]\n",
            "Get:19 http://archive.ubuntu.com/ubuntu bionic-updates/main amd64 Packages [1,334 kB]\n",
            "Get:20 http://security.ubuntu.com/ubuntu bionic-security/main amd64 Packages [1,037 kB]\n",
            "Get:21 http://archive.ubuntu.com/ubuntu bionic-updates/universe amd64 Packages [1,413 kB]\n",
            "Get:22 http://archive.ubuntu.com/ubuntu bionic-updates/restricted amd64 Packages [116 kB]\n",
            "Get:23 http://ppa.launchpad.net/marutter/c2d4u3.5/ubuntu bionic/main Sources [1,855 kB]\n",
            "Get:24 http://ppa.launchpad.net/marutter/c2d4u3.5/ubuntu bionic/main amd64 Packages [895 kB]\n",
            "Fetched 8,109 kB in 4s (2,062 kB/s)\n",
            "Reading package lists... Done\n",
            "Reading package lists... Done\n",
            "Building dependency tree       \n",
            "Reading state information... Done\n",
            "The following packages were automatically installed and are no longer required:\n",
            "  ipython javascript-common libdolfin2017.2 libjs-jquery libjs-sphinxdoc\n",
            "  libjs-underscore libnvidia-common-440\n",
            "  python-backports-shutil-get-terminal-size python-chardet python-configparser\n",
            "  python-decorator python-dijitso python-dolfin python-enum34 python-ffc\n",
            "  python-fiat python-future python-gmpy python-instant python-ipython\n",
            "  python-ipython-genutils python-mpi4py python-mpmath python-olefile\n",
            "  python-pathlib2 python-pexpect python-pickleshare python-pil\n",
            "  python-pkg-resources python-ply python-prompt-toolkit python-ptyprocess\n",
            "  python-pyglet python-pygments python-scandir python-simplegeneric python-six\n",
            "  python-subprocess32 python-sympy python-traitlets python-ufl python-wcwidth\n",
            "  swig swig3.0\n",
            "Use 'apt autoremove' to remove them.\n",
            "The following additional packages will be installed:\n",
            "  dolfin-bin dolfin-doc libdolfin-dev libdolfin2019.1 libmshr-dev\n",
            "  libmshr2019.1 libproj-dev libtet1.5 pybind11-dev python-dijitso\n",
            "  python-dolfin python-ffc python-ufl python-ufl-doc python3-dijitso\n",
            "  python3-dolfin python3-ffc python3-fiat python3-mpi4py python3-mpmath\n",
            "  python3-mshr python3-petsc4py python3-pkg-resources python3-pkgconfig\n",
            "  python3-ply python3-pybind11 python3-six python3-slepc4py python3-sympy\n",
            "  python3-ufl\n",
            "Suggested packages:\n",
            "  proj-bin pybind11-doc python-dijitso-doc python3-gmpy2 python3-matplotlib\n",
            "  python-mpmath-doc python3-setuptools python-ply-doc texlive-fonts-extra\n",
            "  dvipng python-sympy-doc\n",
            "Recommended packages:\n",
            "  python3-pil ipython3\n",
            "The following NEW packages will be installed:\n",
            "  libdolfin2019.1 libmshr-dev libmshr2019.1 libproj-dev libtet1.5 pybind11-dev\n",
            "  python3-dijitso python3-dolfin python3-ffc python3-fiat python3-mpi4py\n",
            "  python3-mpmath python3-mshr python3-petsc4py python3-pkg-resources\n",
            "  python3-pkgconfig python3-ply python3-pybind11 python3-six python3-slepc4py\n",
            "  python3-sympy python3-ufl\n",
            "The following packages will be upgraded:\n",
            "  dolfin-bin dolfin-doc fenics libdolfin-dev python-dijitso python-dolfin\n",
            "  python-ffc python-ufl python-ufl-doc\n",
            "9 upgraded, 22 newly installed, 0 to remove and 51 not upgraded.\n",
            "Need to get 15.5 MB of archives.\n",
            "After this operation, 42.8 MB of additional disk space will be used.\n",
            "Get:1 http://archive.ubuntu.com/ubuntu bionic/universe amd64 python3-mpmath all 1.0.0-1 [400 kB]\n",
            "Get:2 http://ppa.launchpad.net/fenics-packages/fenics/ubuntu bionic/main amd64 python-dolfin all 2019.1.0-1~ppa1~bionic4 [16.9 kB]\n",
            "Get:3 http://ppa.launchpad.net/fenics-packages/fenics/ubuntu bionic/main amd64 libdolfin2019.1 amd64 2019.1.0-1~ppa1~bionic4 [1,704 kB]\n",
            "Get:4 http://archive.ubuntu.com/ubuntu bionic/universe amd64 python3-sympy all 1.1.1-5 [2,569 kB]\n",
            "Get:5 http://archive.ubuntu.com/ubuntu bionic/main amd64 python3-pkg-resources all 39.0.1-2 [98.8 kB]\n",
            "Get:6 http://archive.ubuntu.com/ubuntu bionic/universe amd64 python3-mpi4py amd64 2.0.0-3 [420 kB]\n",
            "Get:7 http://archive.ubuntu.com/ubuntu bionic/main amd64 python3-ply all 3.11-1 [46.6 kB]\n",
            "Get:8 http://archive.ubuntu.com/ubuntu bionic/main amd64 python3-six all 1.11.0-2 [11.4 kB]\n",
            "Get:9 http://archive.ubuntu.com/ubuntu bionic/universe amd64 python3-petsc4py amd64 3.7.0-3build2 [719 kB]\n",
            "Get:10 http://archive.ubuntu.com/ubuntu bionic/universe amd64 python3-slepc4py amd64 3.7.0-3build1 [155 kB]\n",
            "Get:11 http://archive.ubuntu.com/ubuntu bionic/universe amd64 python3-pkgconfig all 1.3.1-1 [6,328 B]\n",
            "Get:12 http://archive.ubuntu.com/ubuntu bionic/universe amd64 libtet1.5 amd64 1.5.0-4 [235 kB]\n",
            "Get:13 http://archive.ubuntu.com/ubuntu bionic/universe amd64 libproj-dev amd64 4.9.3-2 [199 kB]\n",
            "Get:14 http://ppa.launchpad.net/fenics-packages/fenics/ubuntu bionic/main amd64 libdolfin-dev amd64 2019.1.0-1~ppa1~bionic4 [201 kB]\n",
            "Get:15 http://ppa.launchpad.net/fenics-packages/fenics/ubuntu bionic/main amd64 python-ffc all 2019.1.0.post0-1~ppa1~bionic1 [7,112 B]\n",
            "Get:16 http://ppa.launchpad.net/fenics-packages/fenics/ubuntu bionic/main amd64 python3-fiat all 2019.1.0-1~ppa1~bionic1 [55.9 kB]\n",
            "Get:17 http://ppa.launchpad.net/fenics-packages/fenics/ubuntu bionic/main amd64 python-ufl all 2019.1.0-1~ppa1~bionic1 [6,240 B]\n",
            "Get:18 http://ppa.launchpad.net/fenics-packages/fenics/ubuntu bionic/main amd64 python3-ufl all 2019.1.0-1~ppa1~bionic1 [149 kB]\n",
            "Get:19 http://ppa.launchpad.net/fenics-packages/fenics/ubuntu bionic/main amd64 python-dijitso all 2019.1.0-1~ppa1~bionic1 [3,904 B]\n",
            "Get:20 http://ppa.launchpad.net/fenics-packages/fenics/ubuntu bionic/main amd64 python3-dijitso all 2019.1.0-1~ppa1~bionic1 [24.3 kB]\n",
            "Get:21 http://ppa.launchpad.net/fenics-packages/fenics/ubuntu bionic/main amd64 python3-ffc all 2019.1.0.post0-1~ppa1~bionic1 [224 kB]\n",
            "Get:22 http://ppa.launchpad.net/fenics-packages/fenics/ubuntu bionic/main amd64 pybind11-dev all 2.2.3-1fenics1bionic1 [129 kB]\n",
            "Get:23 http://ppa.launchpad.net/fenics-packages/fenics/ubuntu bionic/main amd64 python3-pybind11 all 2.2.3-1fenics1bionic1 [21.5 kB]\n",
            "Get:24 http://ppa.launchpad.net/fenics-packages/fenics/ubuntu bionic/main amd64 python3-dolfin amd64 2019.1.0-1~ppa1~bionic4 [706 kB]\n",
            "Get:25 http://ppa.launchpad.net/fenics-packages/fenics/ubuntu bionic/main amd64 dolfin-bin all 2019.1.0-1~ppa1~bionic4 [22.2 kB]\n",
            "Get:26 http://ppa.launchpad.net/fenics-packages/fenics/ubuntu bionic/main amd64 dolfin-doc all 2019.1.0-1~ppa1~bionic4 [5,780 kB]\n",
            "Get:27 http://ppa.launchpad.net/fenics-packages/fenics/ubuntu bionic/main amd64 python-ufl-doc all 2019.1.0-1~ppa1~bionic1 [13.7 kB]\n",
            "Get:28 http://ppa.launchpad.net/fenics-packages/fenics/ubuntu bionic/main amd64 libmshr2019.1 amd64 2019.1.0+full1-1~ppa1~bionic1 [1,464 kB]\n",
            "Get:29 http://ppa.launchpad.net/fenics-packages/fenics/ubuntu bionic/main amd64 libmshr-dev amd64 2019.1.0+full1-1~ppa1~bionic1 [61.8 kB]\n",
            "Get:30 http://ppa.launchpad.net/fenics-packages/fenics/ubuntu bionic/main amd64 python3-mshr amd64 2019.1.0+full1-1~ppa1~bionic1 [89.9 kB]\n",
            "Get:31 http://ppa.launchpad.net/fenics-packages/fenics/ubuntu bionic/main amd64 fenics amd64 1:2019.1.0.1~ppa1~bionic1 [4,260 B]\n",
            "Fetched 15.5 MB in 10s (1,505 kB/s)\n",
            "Extracting templates from packages: 100%\n",
            "(Reading database ... 152967 files and directories currently installed.)\n",
            "Preparing to unpack .../00-python-dolfin_2019.1.0-1~ppa1~bionic4_all.deb ...\n",
            "Unpacking python-dolfin (2019.1.0-1~ppa1~bionic4) over (2017.2.0.post0-2) ...\n",
            "Selecting previously unselected package libdolfin2019.1:amd64.\n",
            "Preparing to unpack .../01-libdolfin2019.1_2019.1.0-1~ppa1~bionic4_amd64.deb ...\n",
            "Unpacking libdolfin2019.1:amd64 (2019.1.0-1~ppa1~bionic4) ...\n",
            "Preparing to unpack .../02-libdolfin-dev_2019.1.0-1~ppa1~bionic4_amd64.deb ...\n",
            "Unpacking libdolfin-dev (2019.1.0-1~ppa1~bionic4) over (2017.2.0.post0-2) ...\n",
            "Preparing to unpack .../03-python-ffc_2019.1.0.post0-1~ppa1~bionic1_all.deb ...\n",
            "Unpacking python-ffc (2019.1.0.post0-1~ppa1~bionic1) over (2017.2.0.post0-2) ...\n",
            "Selecting previously unselected package python3-mpmath.\n",
            "Preparing to unpack .../04-python3-mpmath_1.0.0-1_all.deb ...\n",
            "Unpacking python3-mpmath (1.0.0-1) ...\n",
            "Selecting previously unselected package python3-sympy.\n",
            "Preparing to unpack .../05-python3-sympy_1.1.1-5_all.deb ...\n",
            "Unpacking python3-sympy (1.1.1-5) ...\n",
            "Selecting previously unselected package python3-pkg-resources.\n",
            "Preparing to unpack .../06-python3-pkg-resources_39.0.1-2_all.deb ...\n",
            "Unpacking python3-pkg-resources (39.0.1-2) ...\n",
            "Selecting previously unselected package python3-fiat.\n",
            "Preparing to unpack .../07-python3-fiat_2019.1.0-1~ppa1~bionic1_all.deb ...\n",
            "Unpacking python3-fiat (2019.1.0-1~ppa1~bionic1) ...\n",
            "Preparing to unpack .../08-python-ufl_2019.1.0-1~ppa1~bionic1_all.deb ...\n",
            "Unpacking python-ufl (2019.1.0-1~ppa1~bionic1) over (2017.2.0.0-2) ...\n",
            "Selecting previously unselected package python3-ufl.\n",
            "Preparing to unpack .../09-python3-ufl_2019.1.0-1~ppa1~bionic1_all.deb ...\n",
            "Unpacking python3-ufl (2019.1.0-1~ppa1~bionic1) ...\n",
            "Preparing to unpack .../10-python-dijitso_2019.1.0-1~ppa1~bionic1_all.deb ...\n",
            "Unpacking python-dijitso (2019.1.0-1~ppa1~bionic1) over (2017.2.0.0-2) ...\n",
            "Selecting previously unselected package python3-mpi4py.\n",
            "Preparing to unpack .../11-python3-mpi4py_2.0.0-3_amd64.deb ...\n",
            "Unpacking python3-mpi4py (2.0.0-3) ...\n",
            "Selecting previously unselected package python3-dijitso.\n",
            "Preparing to unpack .../12-python3-dijitso_2019.1.0-1~ppa1~bionic1_all.deb ...\n",
            "Unpacking python3-dijitso (2019.1.0-1~ppa1~bionic1) ...\n",
            "Selecting previously unselected package python3-ffc.\n",
            "Preparing to unpack .../13-python3-ffc_2019.1.0.post0-1~ppa1~bionic1_all.deb ...\n",
            "Unpacking python3-ffc (2019.1.0.post0-1~ppa1~bionic1) ...\n",
            "Selecting previously unselected package python3-ply.\n",
            "Preparing to unpack .../14-python3-ply_3.11-1_all.deb ...\n",
            "Unpacking python3-ply (3.11-1) ...\n",
            "Selecting previously unselected package pybind11-dev.\n",
            "Preparing to unpack .../15-pybind11-dev_2.2.3-1fenics1bionic1_all.deb ...\n",
            "Unpacking pybind11-dev (2.2.3-1fenics1bionic1) ...\n",
            "Selecting previously unselected package python3-pybind11.\n",
            "Preparing to unpack .../16-python3-pybind11_2.2.3-1fenics1bionic1_all.deb ...\n",
            "Unpacking python3-pybind11 (2.2.3-1fenics1bionic1) ...\n",
            "Selecting previously unselected package python3-six.\n",
            "Preparing to unpack .../17-python3-six_1.11.0-2_all.deb ...\n",
            "Unpacking python3-six (1.11.0-2) ...\n",
            "Selecting previously unselected package python3-petsc4py.\n",
            "Preparing to unpack .../18-python3-petsc4py_3.7.0-3build2_amd64.deb ...\n",
            "Unpacking python3-petsc4py (3.7.0-3build2) ...\n",
            "Selecting previously unselected package python3-slepc4py.\n",
            "Preparing to unpack .../19-python3-slepc4py_3.7.0-3build1_amd64.deb ...\n",
            "Unpacking python3-slepc4py (3.7.0-3build1) ...\n",
            "Selecting previously unselected package python3-pkgconfig.\n",
            "Preparing to unpack .../20-python3-pkgconfig_1.3.1-1_all.deb ...\n",
            "Unpacking python3-pkgconfig (1.3.1-1) ...\n",
            "Selecting previously unselected package python3-dolfin.\n",
            "Preparing to unpack .../21-python3-dolfin_2019.1.0-1~ppa1~bionic4_amd64.deb ...\n",
            "Unpacking python3-dolfin (2019.1.0-1~ppa1~bionic4) ...\n",
            "Preparing to unpack .../22-dolfin-bin_2019.1.0-1~ppa1~bionic4_all.deb ...\n",
            "Unpacking dolfin-bin (2019.1.0-1~ppa1~bionic4) over (2017.2.0.post0-2) ...\n",
            "Preparing to unpack .../23-dolfin-doc_2019.1.0-1~ppa1~bionic4_all.deb ...\n",
            "Unpacking dolfin-doc (2019.1.0-1~ppa1~bionic4) over (2017.2.0.post0-2) ...\n",
            "Preparing to unpack .../24-python-ufl-doc_2019.1.0-1~ppa1~bionic1_all.deb ...\n",
            "Unpacking python-ufl-doc (2019.1.0-1~ppa1~bionic1) over (2017.2.0.0-2) ...\n",
            "Selecting previously unselected package libtet1.5:amd64.\n",
            "Preparing to unpack .../25-libtet1.5_1.5.0-4_amd64.deb ...\n",
            "Unpacking libtet1.5:amd64 (1.5.0-4) ...\n",
            "Selecting previously unselected package libmshr2019.1:amd64.\n",
            "Preparing to unpack .../26-libmshr2019.1_2019.1.0+full1-1~ppa1~bionic1_amd64.deb ...\n",
            "Unpacking libmshr2019.1:amd64 (2019.1.0+full1-1~ppa1~bionic1) ...\n",
            "Selecting previously unselected package libproj-dev:amd64.\n",
            "Preparing to unpack .../27-libproj-dev_4.9.3-2_amd64.deb ...\n",
            "Unpacking libproj-dev:amd64 (4.9.3-2) ...\n",
            "Selecting previously unselected package libmshr-dev.\n",
            "Preparing to unpack .../28-libmshr-dev_2019.1.0+full1-1~ppa1~bionic1_amd64.deb ...\n",
            "Unpacking libmshr-dev (2019.1.0+full1-1~ppa1~bionic1) ...\n",
            "Selecting previously unselected package python3-mshr.\n",
            "Preparing to unpack .../29-python3-mshr_2019.1.0+full1-1~ppa1~bionic1_amd64.deb ...\n",
            "Unpacking python3-mshr (2019.1.0+full1-1~ppa1~bionic1) ...\n",
            "Preparing to unpack .../30-fenics_1%3a2019.1.0.1~ppa1~bionic1_amd64.deb ...\n",
            "Unpacking fenics:amd64 (1:2019.1.0.1~ppa1~bionic1) over (1:2017.2.0.1) ...\n",
            "Setting up python3-pkgconfig (1.3.1-1) ...\n",
            "Setting up libproj-dev:amd64 (4.9.3-2) ...\n",
            "Setting up python-ufl-doc (2019.1.0-1~ppa1~bionic1) ...\n",
            "Setting up libtet1.5:amd64 (1.5.0-4) ...\n",
            "Setting up python3-six (1.11.0-2) ...\n",
            "Setting up python3-pkg-resources (39.0.1-2) ...\n",
            "Setting up python3-mpmath (1.0.0-1) ...\n",
            "Setting up python3-ufl (2019.1.0-1~ppa1~bionic1) ...\n",
            "Setting up libdolfin2019.1:amd64 (2019.1.0-1~ppa1~bionic4) ...\n",
            "Setting up python-ufl (2019.1.0-1~ppa1~bionic1) ...\n",
            "Setting up pybind11-dev (2.2.3-1fenics1bionic1) ...\n",
            "Setting up python3-petsc4py (3.7.0-3build2) ...\n",
            "Setting up python3-mpi4py (2.0.0-3) ...\n",
            "Setting up python3-ply (3.11-1) ...\n",
            "Setting up python3-sympy (1.1.1-5) ...\n",
            "Setting up python3-slepc4py (3.7.0-3build1) ...\n",
            "Setting up python3-pybind11 (2.2.3-1fenics1bionic1) ...\n",
            "Setting up python3-fiat (2019.1.0-1~ppa1~bionic1) ...\n",
            "Setting up libmshr2019.1:amd64 (2019.1.0+full1-1~ppa1~bionic1) ...\n",
            "Setting up python3-dijitso (2019.1.0-1~ppa1~bionic1) ...\n",
            "Setting up python3-ffc (2019.1.0.post0-1~ppa1~bionic1) ...\n",
            "update-alternatives: warning: alternative /usr/lib/python2.7/dist-packages/ffc/backends/ufc/ufc.h (part of link group ufc.h) doesn't exist; removing from list of alternatives\n",
            "update-alternatives: warning: /etc/alternatives/ufc.h is dangling; it will be updated with best choice\n",
            "update-alternatives: using /usr/lib/python3/dist-packages/ffc/backends/ufc/ufc.h to provide /usr/include/ufc.h (ufc.h) in auto mode\n",
            "Setting up python-dijitso (2019.1.0-1~ppa1~bionic1) ...\n",
            "Setting up libdolfin-dev (2019.1.0-1~ppa1~bionic4) ...\n",
            "Setting up python-ffc (2019.1.0.post0-1~ppa1~bionic1) ...\n",
            "Setting up libmshr-dev (2019.1.0+full1-1~ppa1~bionic1) ...\n",
            "Setting up python3-dolfin (2019.1.0-1~ppa1~bionic4) ...\n",
            "Setting up dolfin-doc (2019.1.0-1~ppa1~bionic4) ...\n",
            "Setting up dolfin-bin (2019.1.0-1~ppa1~bionic4) ...\n",
            "Setting up python3-mshr (2019.1.0+full1-1~ppa1~bionic1) ...\n",
            "Setting up python-dolfin (2019.1.0-1~ppa1~bionic4) ...\n",
            "Setting up fenics:amd64 (1:2019.1.0.1~ppa1~bionic1) ...\n",
            "Processing triggers for man-db (2.8.3-2ubuntu0.1) ...\n",
            "Processing triggers for libc-bin (2.27-3ubuntu1) ...\n",
            "/sbin/ldconfig.real: /usr/local/lib/python3.6/dist-packages/ideep4py/lib/libmkldnn.so.0 is not a symbolic link\n",
            "\n",
            "dolfin version: 2019.1.0\n"
          ],
          "name": "stdout"
        }
      ]
    },
    {
      "cell_type": "code",
      "metadata": {
        "id": "ntWPkJhwmu3c",
        "colab_type": "code",
        "colab": {}
      },
      "source": [
        "from fenics import *"
      ],
      "execution_count": null,
      "outputs": []
    },
    {
      "cell_type": "markdown",
      "metadata": {
        "id": "KOZ0FT40mu3o",
        "colab_type": "text"
      },
      "source": [
        "## Initializing notebook plotting\n",
        "When running in a Jupyter notebook, a special line is necessary to show FEniCS plots in the notebook."
      ]
    },
    {
      "cell_type": "code",
      "metadata": {
        "id": "TTwmaAgBmu3p",
        "colab_type": "code",
        "colab": {}
      },
      "source": [
        "%matplotlib inline"
      ],
      "execution_count": null,
      "outputs": []
    },
    {
      "cell_type": "markdown",
      "metadata": {
        "id": "5UjQ8IGymu3v",
        "colab_type": "text"
      },
      "source": [
        "## Creating the mesh\n",
        "To create the mesh, use boolean operators (CSG = Constructive Solid Geometry) from `mshr`. Define the two squares and circles, then combine them with operators `+` (union), `*` (intersection) and `-` (set difference). (Only union and set difference will be needed for this exercise.)"
      ]
    },
    {
      "cell_type": "code",
      "metadata": {
        "id": "bSN_fu_bmu3x",
        "colab_type": "code",
        "colab": {
          "base_uri": "https://localhost:8080/",
          "height": 301
        },
        "outputId": "479566a0-2249-4450-f0be-acb76284018a"
      },
      "source": [
        "S0 = Rectangle(Point(0, 0), Point(1, 1))\n",
        "S1 = Rectangle(Point(0.5,0.5),Point(1.5,1.5))\n",
        "C0 = Circle(Point(0.5,0.5),0.25)\n",
        "C1 = Circle(Point(1,1),0.25)\n",
        "domain = (S0+S1)-(C0+C1)\n",
        "mesh = generate_mesh(domain,20)\n",
        "plot(mesh)"
      ],
      "execution_count": null,
      "outputs": [
        {
          "output_type": "execute_result",
          "data": {
            "text/plain": [
              "[<matplotlib.lines.Line2D at 0x7f8c53d452b0>,\n",
              " <matplotlib.lines.Line2D at 0x7f8c53d45470>]"
            ]
          },
          "metadata": {
            "tags": []
          },
          "execution_count": 19
        },
        {
          "output_type": "display_data",
          "data": {
            "image/png": "[encoded data removed]",
            "text/plain": [
              "<Figure size 432x288 with 1 Axes>"
            ]
          },
          "metadata": {
            "tags": [],
            "needs_background": "light"
          }
        }
      ]
    },
    {
      "cell_type": "markdown",
      "metadata": {
        "collapsed": true,
        "id": "TZiACWJimu34",
        "colab_type": "text"
      },
      "source": [
        "## Defining the finite element function space\n",
        "When we have created the mesh, we can define the finite element function space. We will use a standard piecewise linear $P_1$ function space."
      ]
    },
    {
      "cell_type": "code",
      "metadata": {
        "id": "h7h4ZquDmu36",
        "colab_type": "code",
        "colab": {
          "base_uri": "https://localhost:8080/",
          "height": 35
        },
        "outputId": "873a40fd-0799-47ec-ee68-1ff207349abb"
      },
      "source": [
        "V = FunctionSpace(mesh,'P',1)"
      ],
      "execution_count": null,
      "outputs": [
        {
          "output_type": "stream",
          "text": [
            "Calling FFC just-in-time (JIT) compiler, this may take some time.\n"
          ],
          "name": "stdout"
        }
      ]
    },
    {
      "cell_type": "markdown",
      "metadata": {
        "id": "D9DNLFYWmu3_",
        "colab_type": "text"
      },
      "source": [
        "## Defining the boundary condition\n",
        "The boundary condition can be defined by specifying all points on the boundary closer to either of the two circle centers than a distance slightly larger than the radius $r = 0.25$. "
      ]
    },
    {
      "cell_type": "code",
      "metadata": {
        "id": "fNUYfOIRmu4A",
        "colab_type": "code",
        "colab": {}
      },
      "source": [
        "def boundary(x, on_boundary):\n",
        "    d0 = sqrt((x[0]-0.5)**2 + (x[1]-0.5)**2)\n",
        "    d1 = sqrt((x[0]-1.0)**2 + (x[1]-1.0)**2)\n",
        "    return on_boundary and (d0 < 0.3 or d1 < 0.3)\n",
        "\n",
        "bc = DirichletBC(V, 0 , boundary)"
      ],
      "execution_count": null,
      "outputs": []
    },
    {
      "cell_type": "markdown",
      "metadata": {
        "id": "dgnswdy4mu4H",
        "colab_type": "text"
      },
      "source": [
        "## Defining the variational problem\n",
        "The finite element variational problem for the Poisson equation reads: Find $u \\in V$ such that\n",
        "$$\n",
        "\\int_{\\Omega} \\nabla u \\cdot \\nabla v \\,\\mathrm{d}x = \\int_{\\Omega} fv \\,\\mathrm{d}x\n",
        "$$\n",
        "for all $v \\in V$.\n",
        "\n",
        "This can be expressed in FEniCS by defining the *bilinear form* $a$ and the *linear form* $L$:\n",
        "\n",
        "\\begin{align}\n",
        "  a(u, v) &= \\int_{\\Omega} \\nabla u \\cdot \\nabla v \\,\\mathrm{d}x, \\\\\n",
        "  L(v) &= \\int_{\\Omega} fv \\,\\mathrm{d}x.\n",
        "\\end{align}"
      ]
    },
    {
      "cell_type": "code",
      "metadata": {
        "id": "yoDexe_amu4I",
        "colab_type": "code",
        "colab": {}
      },
      "source": [
        "u = TrialFunction(V)\n",
        "v = TestFunction(V)\n",
        "f = Expression('exp(-10.0*(pow(x[0]-0.75,2) + pow(x[1] - 0.75,2)))',degree = 2)\n",
        "a = inner(grad(u), grad(v))*dx\n",
        "L = f*v*dx"
      ],
      "execution_count": null,
      "outputs": []
    },
    {
      "cell_type": "markdown",
      "metadata": {
        "id": "G8Dw50mLmu4M",
        "colab_type": "text"
      },
      "source": [
        "## Solving the variational problem\n",
        "The variational problem can now be solved by calling the FEniCS `solve` command. Use the `plot` command to visualize the solution. "
      ]
    },
    {
      "cell_type": "code",
      "metadata": {
        "id": "Uia2sdaOmu4M",
        "colab_type": "code",
        "colab": {
          "base_uri": "https://localhost:8080/",
          "height": 374
        },
        "outputId": "d30ffc8e-315c-4650-a187-a39ad0d7e1a5"
      },
      "source": [
        "u = Function(V)\n",
        "solve(a == L, u, bc)\n",
        "plot(u)"
      ],
      "execution_count": null,
      "outputs": [
        {
          "output_type": "stream",
          "text": [
            "Calling FFC just-in-time (JIT) compiler, this may take some time.\n",
            "Calling FFC just-in-time (JIT) compiler, this may take some time.\n",
            "Calling FFC just-in-time (JIT) compiler, this may take some time.\n",
            "Calling FFC just-in-time (JIT) compiler, this may take some time.\n",
            "Calling FFC just-in-time (JIT) compiler, this may take some time.\n"
          ],
          "name": "stdout"
        },
        {
          "output_type": "execute_result",
          "data": {
            "text/plain": [
              "<matplotlib.tri.tricontour.TriContourSet at 0x7f8c52e660b8>"
            ]
          },
          "metadata": {
            "tags": []
          },
          "execution_count": 23
        },
        {
          "output_type": "display_data",
          "data": {
            "image/png": "[encoded data removed]",
            "text/plain": [
              "<Figure size 432x288 with 1 Axes>"
            ]
          },
          "metadata": {
            "tags": [],
            "needs_background": "light"
          }
        }
      ]
    },
    {
      "cell_type": "markdown",
      "metadata": {
        "collapsed": true,
        "id": "U3-yQ_Vkmu4Q",
        "colab_type": "text"
      },
      "source": [
        "## Postprocessing\n",
        "To postprocess the solution using an external postprocessor, for example Paraview, save the solution to VTK format (file suffix `.pvd`)."
      ]
    },
    {
      "cell_type": "code",
      "metadata": {
        "id": "uw2QcNu9mu4R",
        "colab_type": "code",
        "colab": {}
      },
      "source": [
        ""
      ],
      "execution_count": null,
      "outputs": []
    }
  ]
}