{
  "nbformat": 4,
  "nbformat_minor": 0,
  "metadata": {
    "kernelspec": {
      "display_name": "Python 3",
      "language": "python",
      "name": "python3"
    },
    "language_info": {
      "codemirror_mode": {
        "name": "ipython",
        "version": 3
      },
      "file_extension": ".py",
      "mimetype": "text/x-python",
      "name": "python",
      "nbconvert_exporter": "python",
      "pygments_lexer": "ipython3",
      "version": "3.6.8"
    },
    "colab": {
      "name": "Exercise 7.ipynb",
      "provenance": [],
      "toc_visible": true,
      "include_colab_link": true
    }
  },
  "cells": [
    {
      "cell_type": "markdown",
      "metadata": {
        "id": "view-in-github",
        "colab_type": "text"
      },
      "source": [
        "<a href=\"https://colab.research.google.com/github/bilgin-kocak/fenics-tutorials-anders-logg/blob/master/Exercise%20_7.ipynb\" target=\"_parent\"><img src=\"https://colab.research.google.com/assets/colab-badge.svg\" alt=\"Open In Colab\"/></a>"
      ]
    },
    {
      "cell_type": "markdown",
      "metadata": {
        "id": "75Ams4U9KSF6",
        "colab_type": "text"
      },
      "source": [
        "# Exercise 7: Modeling composite materials\n",
        "\n",
        "![image.png](attachment:image.png)\n",
        "\n",
        "In this exercise, we will compute the effective material stiffness and effective Poisson's ratio of a composite material. The domain $\\Omega$ is a 2D cross-section in the $xy$-plane of a set of cylindrical fibers (going in the $z$-direction) embedded in a surrounding material (matrix). We model the material by dividing the domain $\\Omega$ into two different domains, the matrix (background) domain $\\Omega_0$ and the fiber domain $\\Omega_1$, with different material parameters in the two domains.\n",
        "\n",
        "Just like in Exercise 5a, we will solve the equations of linear elasticity:\n",
        "\\begin{align}\n",
        "-\\mathrm{div}\\,\\sigma(u) = f. \\\\\n",
        "\\end{align}\n",
        "\n",
        "The stress tensor $\\sigma = \\sigma(u)$ is given by\n",
        "$$\n",
        "\\sigma(u) = 2\\mu\\epsilon(u) + \\lambda \\mathrm{tr}\\,\\epsilon(u) I,\n",
        "$$\n",
        "\n",
        "where $\\epsilon(u) = \\frac{1}{2}(\\mathrm{grad}\\,u + (\\mathrm{grad}\\,u)^{\\top})$ is the symmetric gradient and $I$ is the identity matrix. The Lamé parameters are\n",
        "\\begin{align}\n",
        "\\mu &= \\frac{E}{2\\cdot(1 + \\nu)}, \\\\\n",
        "\\lambda &= \\frac{E\\nu}{(1 + \\nu)(1 - 2\\nu)}.\n",
        "\\end{align}\n",
        "\n",
        "Note that this 2D problem is identical to the 3D linear elastic problem in the case of [plane strain](https://en.wikipedia.org/wiki/Infinitesimal_strain_theory#Plane_strain).\n",
        "\n",
        "The parameters $E$ and $\\nu$ will have different values in $\\Omega_0$ and $\\Omega_1$.\n",
        "\n",
        "We will use the following data:\n",
        "\n",
        "* $E_0 = 3\\,\\mathrm{[GPa]}$ (Young's modulus in $\\Omega_0$)\n",
        "* $E_1 = 80\\,\\mathrm{[GPa]}$ (Young's modulus in $\\Omega_1$)\n",
        "* $\\nu_0 = 0.4$ (Poisson's ratio in the matrix)\n",
        "* $\\nu_1 = 0.2$ (Poisson's ratio in the fibers)\n",
        "* Fiber locations given by the file `Ex3-Fibers.txt`\n",
        "* $u_x = 0$ on the left boundary\n",
        "* $u_x = \\delta$ on the right boundary\n",
        "* $u_y = 0$ in the lower left corner\n",
        "\n",
        "We will scale the Young's moduli to `3` and `80` (rather than `3e9` and `80e9`) for numerical stability. Remember that most numerical sofware and number systems perform better when all numbers are close `1`."
      ]
    },
    {
      "cell_type": "markdown",
      "metadata": {
        "id": "L326McTfKSF8",
        "colab_type": "text"
      },
      "source": [
        "## Importing FEniCS\n",
        "The first thing we need to do is to import FEniCS."
      ]
    },
    {
      "cell_type": "code",
      "metadata": {
        "id": "9I28er3zKSF9",
        "colab_type": "code",
        "colab": {}
      },
      "source": [
        "# Installing and Importing Fenics\n",
        "from google.colab import files\n",
        "\n",
        "import platform, sys\n",
        "python_version=platform.python_version()\n",
        "from distutils.version import LooseVersion, StrictVersion\n",
        "\n",
        "if ( LooseVersion(python_version) < LooseVersion(\"3.0.0\")):\n",
        "    print(\"Python3 is needed!\");\n",
        "    print(\"How to fix: Runtime/Change_runtime_type/Python 3\");\n",
        "    sys.exit()\n",
        "try:\n",
        "    from fenics import *; from mshr import *\n",
        "except ImportError as e:\n",
        "    !apt-get install -y -qq software-properties-common python-software-properties module-init-tools\n",
        "    !add-apt-repository -y ppa:fenics-packages/fenics\n",
        "    !apt-get update -qq\n",
        "    !apt install -y --no-install-recommends fenics\n",
        "    from fenics import *; from mshr import *\n",
        "    \n",
        "dolfin_version = dolfin.__version__\n",
        "print ('dolfin version:', dolfin_version)\n",
        "\n",
        "!rm -rf * # clean up all files\n",
        "# Useful commands\n",
        "# Remove an empty folder      : os.rmdir(\"my_results\")\n",
        "# Remove a folder with files  : shutil.rmtree(\"results\")\n",
        "# Make a folder               : os.mkdir(\"my_results\")\n",
        "# Runtime/Change_runtime_type/Python3"
      ],
      "execution_count": null,
      "outputs": []
    },
    {
      "cell_type": "markdown",
      "metadata": {
        "id": "QCelcAgLKSGJ",
        "colab_type": "text"
      },
      "source": [
        "## Initializing notebook plotting\n",
        "When running in a Jupyter notebook, a special line is necessary to show FEniCS plots in the notebook."
      ]
    },
    {
      "cell_type": "code",
      "metadata": {
        "id": "ypbdFYt-KSGN",
        "colab_type": "code",
        "colab": {}
      },
      "source": [
        "%matplotlib inline"
      ],
      "execution_count": null,
      "outputs": []
    },
    {
      "cell_type": "code",
      "metadata": {
        "id": "Gj-kXWkLKbc7",
        "colab_type": "code",
        "colab": {
          "base_uri": "https://localhost:8080/",
          "height": 35
        },
        "outputId": "82b6200d-3f48-41d3-b874-ab1004389aaf"
      },
      "source": [
        "import requests\n",
        "\n",
        "\n",
        "url = 'https://github.com/bilgin-kocak/fenics-tutorials-anders-logg/blob/master/Ex3-Fibers.txt'\n",
        "r = requests.get(url, allow_redirects=True)\n",
        "\n",
        "open('Ex3-Fibers.txt', 'wb').write(r.content)"
      ],
      "execution_count": 1,
      "outputs": [
        {
          "output_type": "execute_result",
          "data": {
            "text/plain": [
              "117884"
            ]
          },
          "metadata": {
            "tags": []
          },
          "execution_count": 1
        }
      ]
    },
    {
      "cell_type": "markdown",
      "metadata": {
        "id": "XJko2HPLKSGS",
        "colab_type": "text"
      },
      "source": [
        "## Loading the fiber coordinates\n",
        "Before creating the mesh, we need to load the fiber coordinates from the text file `Ex3-Fibers.txt`. The file is a so-called CSV file (comma-separated values). Use the `loadtxt()` command from `numpy` to load the data into an array. Each row in the array will give the center coordinates $(x, y)$ and the radius $r$ for a fiber. Store the coordinates and radii in three arrays named `cx`, `cy` and `cr`."
      ]
    },
    {
      "cell_type": "code",
      "metadata": {
        "id": "gNybzx5IKSGT",
        "colab_type": "code",
        "colab": {},
        "outputId": "4a9a87ea-d2d5-42bc-971a-c8db06433a2c"
      },
      "source": [
        "from numpy import loadtxt\n",
        "fibers = loadtxt('Ex3-Fibers.txt')\n",
        "cx = fibers[:, 0]\n",
        "cy = fibers[:, 1]\n",
        "cr = fibers[:, 2]\n",
        "print(fibers)"
      ],
      "execution_count": null,
      "outputs": [
        {
          "output_type": "stream",
          "text": [
            "[[ 6.001447  5.034437  3.25    ]\n",
            " [16.985958  6.019035  2.75    ]\n",
            " [34.966783  6.943401  2.5     ]\n",
            " [80.152196  6.933722  2.75    ]\n",
            " [89.039734  7.061682  2.75    ]\n",
            " [41.995393  7.990612  2.75    ]\n",
            " [47.996703  7.964242  2.75    ]\n",
            " [55.0148    8.048407  2.5     ]\n",
            " [10.996202  9.206415  3.      ]\n",
            " [73.151207  8.983816  3.5     ]\n",
            " [97.        9.        3.25    ]\n",
            " [24.867563  9.985847  3.5     ]\n",
            " [65.043142 10.900814  3.25    ]\n",
            " [84.877569 12.095883  3.25    ]\n",
            " [17.       13.        2.75    ]\n",
            " [37.967763 12.995392  2.5     ]\n",
            " [58.004052 13.024101  3.25    ]\n",
            " [ 5.022265 14.083219  3.      ]\n",
            " [51.903346 14.104241  3.      ]\n",
            " [93.001726 13.995285  2.75    ]\n",
            " [44.999375 15.998124  3.5     ]\n",
            " [22.       17.        2.5     ]\n",
            " [27.020804 17.081191  2.5     ]\n",
            " [34.       18.001358  2.5     ]\n",
            " [66.895852 17.992675  3.75    ]\n",
            " [81.00828  17.987303  3.25    ]\n",
            " [88.037404 18.020709  2.75    ]\n",
            " [74.071478 18.994232  3.25    ]\n",
            " [ 4.060547 19.911699  3.      ]\n",
            " [11.000047 20.011624  3.      ]\n",
            " [38.985207 20.054019  2.5     ]\n",
            " [60.998645 21.170875  3.25    ]\n",
            " [16.977526 21.82964   2.5     ]\n",
            " [28.954269 21.909213  2.5     ]\n",
            " [52.837767 22.236352  3.75    ]\n",
            " [93.891362 22.170897  3.25    ]\n",
            " [23.091417 23.208024  3.      ]\n",
            " [45.979406 23.94998   3.5     ]\n",
            " [37.023772 24.961203  2.5     ]\n",
            " [67.075872 24.98996   3.      ]\n",
            " [12.       26.008509  2.5     ]\n",
            " [82.912044 25.627455  3.25    ]\n",
            " [ 5.019521 26.977296  2.75    ]\n",
            " [31.026897 27.853929  2.75    ]\n",
            " [90.130013 28.060028  2.5     ]\n",
            " [96.991073 28.008927  2.75    ]\n",
            " [24.969958 28.902002  2.25    ]\n",
            " [18.000563 30.063947  3.5     ]\n",
            " [71.031625 29.97974   3.      ]\n",
            " [40.984367 30.93906   2.75    ]\n",
            " [48.04506  30.991331  3.25    ]\n",
            " [55.98531  31.031404  3.5     ]\n",
            " [77.031382 31.246962  3.25    ]\n",
            " [ 7.021017 32.043263  2.75    ]\n",
            " [62.831152 32.024158  3.5     ]\n",
            " [11.9878   33.004332  2.25    ]\n",
            " [85.845377 32.913521  3.      ]\n",
            " [31.102929 33.881011  2.25    ]\n",
            " [35.988631 34.132912  2.5     ]\n",
            " [24.171864 34.783791  2.75    ]\n",
            " [93.002082 34.95635   2.5     ]\n",
            " [52.026994 36.964916  3.25    ]\n",
            " [70.955548 36.946973  3.      ]\n",
            " [79.       38.        3.      ]\n",
            " [12.162965 38.953769  2.75    ]\n",
            " [37.901962 39.810523  3.      ]\n",
            " [65.025794 39.990254  3.5     ]\n",
            " [85.056883 39.935233  3.      ]\n",
            " [31.       41.000539  3.25    ]\n",
            " [58.061624 40.966373  3.      ]\n",
            " [ 5.942153 41.905384  2.5     ]\n",
            " [92.000377 41.994346  3.      ]\n",
            " [47.006905 43.069789  3.5     ]\n",
            " [73.964043 43.027521  3.5     ]\n",
            " [16.648776 44.260481  3.25    ]\n",
            " [25.999026 43.998273  2.75    ]\n",
            " [11.045024 46.102816  3.      ]\n",
            " [40.923676 45.932644  3.25    ]\n",
            " [61.903074 46.97634   2.75    ]\n",
            " [87.012785 46.867348  3.      ]\n",
            " [80.037505 47.832876  2.75    ]\n",
            " [96.938631 48.099143  3.      ]\n",
            " [20.938315 49.070067  2.75    ]\n",
            " [50.9866   50.017596  3.5     ]\n",
            " [73.961454 50.012285  2.75    ]\n",
            " [28.00298  50.900041  2.75    ]\n",
            " [35.963138 50.956643  2.5     ]\n",
            " [66.948611 51.067199  2.75    ]\n",
            " [16.080618 51.973569  3.      ]\n",
            " [44.018262 52.990006  3.5     ]\n",
            " [85.1076   54.002349  3.75    ]\n",
            " [31.987563 55.793505  3.5     ]\n",
            " [78.016645 56.085891  3.      ]\n",
            " [ 5.       57.        3.      ]\n",
            " [11.997171 56.974998  3.      ]\n",
            " [24.953215 56.869901  2.75    ]\n",
            " [58.100808 56.866469  2.75    ]\n",
            " [64.999992 57.001011  3.      ]\n",
            " [38.961719 58.061506  3.      ]\n",
            " [91.963625 58.066491  3.5     ]\n",
            " [18.983795 59.009278  2.75    ]\n",
            " [45.99296  60.024119  3.25    ]\n",
            " [71.029728 59.969389  3.75    ]\n",
            " [85.990559 62.018337  4.      ]\n",
            " [28.021007 63.011074  2.5     ]\n",
            " [56.09679  63.025303  3.      ]\n",
            " [ 7.95141  63.886483  3.      ]\n",
            " [34.914762 63.958977  3.5     ]\n",
            " [64.096974 64.187456  2.75    ]\n",
            " [14.918549 65.027259  2.75    ]\n",
            " [21.976194 65.128133  2.5     ]\n",
            " [97.034615 64.970199  3.      ]\n",
            " [41.952531 66.966545  3.75    ]\n",
            " [69.043468 67.926047  3.      ]\n",
            " [77.255222 67.900922  3.75    ]\n",
            " [27.03144  69.013206  3.25    ]\n",
            " [49.911027 69.120477  3.75    ]\n",
            " [57.012872 69.938199  3.      ]\n",
            " [93.926653 69.854006  2.75    ]\n",
            " [ 9.99637  71.01578   2.75    ]\n",
            " [63.100036 71.129634  2.75    ]\n",
            " [17.943365 72.111423  3.5     ]\n",
            " [83.018995 72.970664  3.25    ]\n",
            " [39.030719 73.996941  3.5     ]\n",
            " [ 4.849714 75.047196  3.      ]\n",
            " [31.158114 74.954348  3.5     ]\n",
            " [68.836227 74.899225  3.25    ]\n",
            " [88.994    74.98254   2.5     ]\n",
            " [24.189685 76.103251  3.5     ]\n",
            " [13.056731 76.961076  2.5     ]\n",
            " [55.08452  77.081163  3.      ]\n",
            " [62.054879 77.148566  2.75    ]\n",
            " [75.022732 78.007053  3.5     ]\n",
            " [83.974436 80.078786  3.5     ]\n",
            " [94.039403 79.932814  3.5     ]\n",
            " [ 8.977976 81.893637  3.      ]\n",
            " [19.017817 81.947556  3.5     ]\n",
            " [38.987195 81.953651  3.5     ]\n",
            " [67.93765  81.959977  3.      ]\n",
            " [31.999541 82.842979  3.75    ]\n",
            " [51.022254 82.87006   3.25    ]\n",
            " [59.984762 82.965649  2.5     ]\n",
            " [88.997521 84.988791  2.75    ]\n",
            " [45.055016 86.007372  2.5     ]\n",
            " [73.998398 85.966193  3.75    ]\n",
            " [80.980177 86.068869  3.25    ]\n",
            " [14.103409 86.827508  3.5     ]\n",
            " [95.000807 87.002208  3.      ]\n",
            " [55.94549  87.975311  3.25    ]\n",
            " [65.10924  87.923568  3.      ]\n",
            " [25.056506 89.056211  3.25    ]\n",
            " [ 7.065259 89.88162   2.75    ]\n",
            " [33.922964 89.939224  3.5     ]\n",
            " [19.122522 91.791096  3.      ]\n",
            " [49.504433 92.252353  2.5     ]\n",
            " [43.01786  93.006088  3.25    ]\n",
            " [84.836673 93.185085  2.5     ]\n",
            " [12.090824 93.893441  2.75    ]\n",
            " [70.966043 94.115764  4.      ]\n",
            " [93.020777 94.188936  2.75    ]\n",
            " [56.980757 94.941024  3.25    ]\n",
            " [26.989617 95.814182  3.5     ]\n",
            " [37.015918 95.986634  3.      ]\n",
            " [63.969811 96.118701  3.      ]]\n"
          ],
          "name": "stdout"
        }
      ]
    },
    {
      "cell_type": "markdown",
      "metadata": {
        "id": "V_7S8om7KSGb",
        "colab_type": "text"
      },
      "source": [
        "## Creating the mesh\n",
        "\n",
        "In order for the fibers not to overlap, compute the number `feps` as `0.01` times the average fiber radius and then make sure that the distance between any two fibers is at least `feps`. Also use `feps` to expand the size of the enclosing domain so as not to touch the fibers.\n",
        "\n",
        "Use FEniCS `mshr` to create the mesh. Figure out the dimensions of the fiber sample by computing $x_{\\mathrm{min}} = \\min(x - r)$ and similarly $x_{\\mathrm{max}}$, $y_{\\mathrm{min}}$ and $y_{\\mathrm{max}}$. Create a rectangle using these coordinates and mark each fiber as a subdomain (`1`, `2`, `3`, ...) using the `set_subdomain()` command. See the section on [generating meshes with subdomains](https://fenicsproject.org/pub/tutorial/sphinx1/._ftut1005.html#generating-meshes-with-subdomains) in the [FEniCS Tutorial](https://fenicsproject.org/tutorial/) for details.\n",
        "\n",
        "Use a resolution of $m = 64$ for the mesh generation. Note that it may take some time to generate the mesh so you might want to start with $m = 16$.\n",
        "\n",
        "Also note that we will use the original scaling of the fiber coordinates. The actual dimension of the fiber sample is ca $16\\,\\mu\\mathrm{m}$, but since the scaling of the domain is not relevant to the computation of the effective material stiffness and Poisson's ratio, we will keep the original scaling."
      ]
    },
    {
      "cell_type": "code",
      "metadata": {
        "id": "koA2BlS0KSGc",
        "colab_type": "code",
        "colab": {}
      },
      "source": [
        "from mshr import *\n",
        "from numpy import mean\n",
        "\n",
        "# Compute feps as 0.01 times the average fiber radius\n",
        "feps = 0.01*mean(cr)\n",
        "\n",
        "# Make sure that the distance between all fiber pairs is at least feps\n",
        "for i in range(len(cr)):\n",
        "    for j in range(i + 1, len(cr)):\n",
        "        d = sqrt((cx[i] - cx[j])**2 + (cy[i] - cy[j])**2)\n",
        "        if d - feps < cr[i] + cr[j]:\n",
        "            cr[i] = d - feps - cr[j]\n",
        "\n",
        "# Compute xmin, xmax, ymin, ymax\n",
        "xmin = min(cx - cr) - feps\n",
        "xmax = max(cx + cr) + feps\n",
        "ymin = min(cy - cr) - feps\n",
        "ymax = max(cy + cr) + feps\n",
        "\n",
        "# Define the background domain\n",
        "domain = Rectangle(Point(xmin, ymin), Point(xmax, ymax))\n",
        "\n",
        "# Mark the fibers\n",
        "for i, (x, y, r) in enumerate(fibers):\n",
        "    circle = Circle(Point(x, y), r)\n",
        "    domain.set_subdomain(i + 1, circle)\n",
        "\n",
        "# Generate the mesh\n",
        "m = 64\n",
        "mesh = generate_mesh(domain, m)"
      ],
      "execution_count": null,
      "outputs": []
    },
    {
      "cell_type": "markdown",
      "metadata": {
        "id": "R5Hkf_5yKSGj",
        "colab_type": "text"
      },
      "source": [
        "## Creating domain markers\n",
        "Use a `MeshFunction` to create markers for the subdomains of the mesh. Since we only need two subdomains (the default value `0` for the matrix and `1` for the fibers) we modify the markers to either `0` or `1`. Use the domain markers to define an integration measure `dx` connected to the markers.\n",
        "\n",
        "Use the integration measure to compute the volume fraction of fibers in the domain as the integral of `1*dx(1)` divided by the integral of `1*dx` (which is identical to `1*(dx(0) + dx(1))`. The integrals can be computed using the `assemble()` function in FEniCS."
      ]
    },
    {
      "cell_type": "code",
      "metadata": {
        "id": "jdZsBVpjKSGm",
        "colab_type": "code",
        "colab": {},
        "outputId": "fecad00b-d092-4806-f376-4f1d4ff92f79"
      },
      "source": [
        "# Create MeshFunction for domain markers\n",
        "domain_markers = MeshFunction('size_t', mesh, 2, mesh.domains())\n",
        "\n",
        "# Mark all fiber domains as 1\n",
        "for i in range(domain_markers.size()):\n",
        "    if domain_markers[i] > 0:\n",
        "        domain_markers[i] = 1\n",
        "        \n",
        "# Plot and save the markers to file for inspection\n",
        "plot(domain_markers)\n",
        "File('exercise7/domain_markers.pvd') << domain_markers\n",
        "\n",
        "# Create integration measure dx connected to the markers\n",
        "dx = Measure('dx', domain=mesh, subdomain_data=domain_markers)\n",
        "\n",
        "# Compute the volume fraction\n",
        "Vf = assemble(1*dx(1)) / assemble(1*dx)\n",
        "print('Vf =', Vf)"
      ],
      "execution_count": null,
      "outputs": [
        {
          "output_type": "stream",
          "text": [
            "Calling FFC just-in-time (JIT) compiler, this may take some time.\n",
            "Calling FFC just-in-time (JIT) compiler, this may take some time.\n",
            "Vf = 0.4591017014027414\n"
          ],
          "name": "stdout"
        },
        {
          "output_type": "display_data",
          "data": {
            "image/png": "[encoded data removed]",
            "text/plain": [
              "<Figure size 432x288 with 1 Axes>"
            ]
          },
          "metadata": {
            "tags": []
          }
        }
      ]
    },
    {
      "cell_type": "markdown",
      "metadata": {
        "id": "yVoONhwxKSGs",
        "colab_type": "text"
      },
      "source": [
        "## Setting problem parameters\n",
        "We will use the following problem parameters."
      ]
    },
    {
      "cell_type": "code",
      "metadata": {
        "id": "nMWs8-9WKSGu",
        "colab_type": "code",
        "colab": {}
      },
      "source": [
        "E0 = 3        # Young's modulus in domain 0 (matrix)\n",
        "E1 = 80       # Young's modulus in domain 1 (fibers)\n",
        "nu0 = 0.4     # Poisson's ratio in domain 0 (matrix)\n",
        "nu1 = 0.2     # Poisson's ratio in domain 1 (fibers)\n",
        "strain = 0.01 # Strain (relative displacement)"
      ],
      "execution_count": null,
      "outputs": []
    },
    {
      "cell_type": "markdown",
      "metadata": {
        "id": "J8P3P3jwKSGx",
        "colab_type": "text"
      },
      "source": [
        "## Defining the finite element function space\n",
        "When we have loaded the mesh, we can define the finite element function space. We will use a piecewise quadratic $P_2$ function space. Since the displacement is vector-valued, we will need to create a `VectorFunctionSpace`."
      ]
    },
    {
      "cell_type": "code",
      "metadata": {
        "id": "0H48bt3sKSGy",
        "colab_type": "code",
        "colab": {}
      },
      "source": [
        "V = VectorFunctionSpace(mesh, 'P', 2)"
      ],
      "execution_count": null,
      "outputs": []
    },
    {
      "cell_type": "markdown",
      "metadata": {
        "id": "hDAOhdCaKSG2",
        "colab_type": "text"
      },
      "source": [
        "## Defining the boundary conditions\n",
        "The three boundary conditions can be defined by using the `DirichletBC` class in combination with either FEniCS `SubDomain` classes or by directly specifying expressions for the boundary conditions, for example `'near(x[0], %.16g) % xmin'`. Note that for the point-wise boundary condition at the lower left corner one needs to specify the additional argument `'pointwise'`.\n",
        "\n",
        "Use `V.sub(0)` and `V.sub(1)` to set boundary conditions separately for the $u_x$ and $u_y$ displacement components."
      ]
    },
    {
      "cell_type": "code",
      "metadata": {
        "id": "JnGPnb2XKSG4",
        "colab_type": "code",
        "colab": {}
      },
      "source": [
        "bc0 = DirichletBC(V.sub(0), 0, 'near(x[0], %.16g)' % xmin)\n",
        "bc1 = DirichletBC(V.sub(1), 0, 'near(x[0], %.16g) && near(x[1], %.16g)' % (xmin, ymin), 'pointwise')\n",
        "bc2 = DirichletBC(V.sub(0), strain*(xmax - xmin), 'near(x[0], %.16g)' % xmax)\n",
        "bcs = [bc0, bc1, bc2]"
      ],
      "execution_count": null,
      "outputs": []
    },
    {
      "cell_type": "markdown",
      "metadata": {
        "id": "UzMiCl-DKSG8",
        "colab_type": "text"
      },
      "source": [
        "## Defining the variational problem\n",
        "The finite element variational problem for the linear elasticy problem reads: Find $u \\in V$ such that\n",
        "$$\n",
        "\\int_{\\Omega_0} \\sigma_0(u) : \\varepsilon(v) \\,\\mathrm{d}x +\n",
        "\\int_{\\Omega_1} \\sigma_1(u) : \\varepsilon(v) \\,\\mathrm{d}x\n",
        "=\n",
        "\\int_{\\Omega} f \\cdot v \\,\\mathrm{d}x\n",
        "$$\n",
        "for all $v \\in V$.\n",
        "\n",
        "This can be expressed in FEniCS by defining the *bilinear form* $a$ and the *linear form* $L$:\n",
        "\n",
        "\\begin{align}\n",
        "  a(u, v) &= \\int_{\\Omega_0} \\sigma_0(u) : \\varepsilon(v) \\,\\mathrm{d}x + \\int_{\\Omega_1} \\sigma_1(u) : \\varepsilon(v) \\,\\mathrm{d}x, \\\\\n",
        "  L(v) &= \\int_{\\Omega} f \\cdot v \\,\\mathrm{d}x,\n",
        "\\end{align}\n",
        "\n",
        "where $\\sigma_0(u)$ and $\\sigma_1(u)$ are two different expressions for the stress tensor depending on the different material parameters for the two domains $\\Omega_0$ and $\\Omega_1$. These domains are the matrix domain (marked as `0`) and the fiber domain (marked as `1`).\n",
        "\n",
        "The two integration domains can be expressed in FEniCS as `dx(0)` and `dx(1)`."
      ]
    },
    {
      "cell_type": "code",
      "metadata": {
        "id": "nb6r7RU8KSG8",
        "colab_type": "code",
        "colab": {}
      },
      "source": [
        "def epsilon(u):\n",
        "    return sym(grad(u))\n",
        "\n",
        "def sigma(u, E, nu):\n",
        "    mu = E / (2.0*(1.0 + nu))\n",
        "    lmbda = E*nu / ((1.0 + nu)*(1.0 - 2.0*nu))\n",
        "    return 2.0*mu*epsilon(u) + lmbda*tr(epsilon(u))*Identity(2)\n",
        "\n",
        "u = TrialFunction(V)\n",
        "v = TestFunction(V)\n",
        "f = Constant((0, 0))\n",
        "a = inner(sigma(u, E0, nu0), grad(v))*dx(0) + inner(sigma(u, E1, nu1), grad(v))*dx(1)\n",
        "L = dot(f, v)*dx"
      ],
      "execution_count": null,
      "outputs": []
    },
    {
      "cell_type": "markdown",
      "metadata": {
        "id": "yVDekgplKSHB",
        "colab_type": "text"
      },
      "source": [
        "## Solving the variational problem\n",
        "The variational problem can now be solved by calling the FEniCS `solve` command. Use the `plot` command to visualize the solution. Use a new variable `u_h` to store the solution (rather than overwriting the trial function `u`) since we will make use of both `u` and `u_h` below..."
      ]
    },
    {
      "cell_type": "code",
      "metadata": {
        "id": "kJAHdQeeKSHB",
        "colab_type": "code",
        "colab": {},
        "outputId": "fb5e9dd7-8709-4df6-b6fd-43c71956ef44"
      },
      "source": [
        "u_h = Function(V)\n",
        "solve(a == L, u_h, bcs)\n",
        "plot(u_h)"
      ],
      "execution_count": null,
      "outputs": [
        {
          "output_type": "stream",
          "text": [
            "Calling FFC just-in-time (JIT) compiler, this may take some time.\n",
            "Calling FFC just-in-time (JIT) compiler, this may take some time.\n"
          ],
          "name": "stdout"
        },
        {
          "output_type": "execute_result",
          "data": {
            "text/plain": [
              "<matplotlib.quiver.Quiver at 0x7fd1a7a8ce10>"
            ]
          },
          "metadata": {
            "tags": []
          },
          "execution_count": 11
        },
        {
          "output_type": "display_data",
          "data": {
            "image/png": "[encoded data removed]",
            "text/plain": [
              "<Figure size 432x288 with 1 Axes>"
            ]
          },
          "metadata": {
            "tags": []
          }
        }
      ]
    },
    {
      "cell_type": "markdown",
      "metadata": {
        "id": "z8AVYWqqKSHG",
        "colab_type": "text"
      },
      "source": [
        "## Computing the reaction force\n",
        "To compute the effective material stiffness, we note that if $-\\nabla\\cdot u = f$ in a domain $\\Omega$, then it follows from integration by parts that\n",
        "$$\n",
        "\\int_{\\Omega} \\sigma(u):\\varepsilon(v) \\,\\mathrm{d}x \n",
        "= \\int_{\\partial\\Omega} g \\cdot v \\,\\mathrm{d}s\n",
        "+ \\int_{\\Omega} f \\cdot v \\,\\mathrm{d}x,\n",
        "$$\n",
        "where $g = \\sigma\\cdot n$ is the *boundary traction*. Note that this holds for any (differentiable) function $v$.\n",
        "\n",
        "To compute the reaction force $F$ on the left boundary $\\Gamma_{\\mathrm{L}}$, we note that if $f = 0$ and $\\psi$ is a function that is equal to $(1, 0)$ on $\\Gamma_{\\mathrm{L}}$ and zero on the remaining boundary, then\n",
        "$$\n",
        "F = \\int_{\\Gamma_{\\mathrm{L}}} (\\sigma\\cdot n) \\cdot (-1,0) \\,\\mathrm{d}s\n",
        "= -\\int_{\\partial\\Omega} g \\cdot \\psi \\,\\mathrm{d}s\n",
        "= -\\int_{\\Omega} \\sigma(u):\\varepsilon(\\psi) \\,\\mathrm{d}x.\n",
        "$$\n",
        "In other words, the reaction force on the boundary can be computed by an integral of the stress over the domain weighted by the strain of the function $\\psi$.\n",
        "\n",
        "Alternatively, the reaction force may be computed by noting that if $\\mathcal{I}$ is the set of indices for the nodes\n",
        "on the left boundary $\\Gamma_{\\mathrm{L}}$ related to the $x$-component of the finite element solution, then the function $\\psi$ can be expressed as\n",
        "$$\n",
        "\\psi(x) = \\sum_{i\\in\\mathcal{I}} \\phi_i(x).\n",
        "$$\n",
        "It follows that\n",
        "$$\n",
        "F\n",
        "= -\\int_{\\Omega} \\sigma(u):\\varepsilon(\\psi) \\,\\mathrm{d}x\n",
        "= -\\int_{\\Omega} \\sigma\\left(\\sum_{j=1}^N U_j \\phi_j\\right):\\varepsilon\\left(\\sum_{i\\in\\mathcal{I}}\\phi_i\\right) \\,\\mathrm{d}x\n",
        "= -\\sum_{i\\in\\mathcal{I}} \\sum_{j=1}^N U_j \\int_{\\Omega} \\sigma(\\phi_j):\\varepsilon(\\phi_i) \\,\\mathrm{d}x\n",
        "= -\\sum_{i\\in\\mathcal{I}} (AU)_i,\n",
        "$$\n",
        "where $A$ is the stiffness matrix and $U$ is the vector of degrees of freedom for the computed solution. We may thus compute the reaction force by applying the stiffness matrix (before application of boundary conditions!) to the solution vector $U$ and then sum over the rows corresponding to the normal component degrees of freedom on the left boundary.\n",
        "\n",
        "Note that both alternatives should yield the same result for the reaction force (to within machine precision).\n",
        "\n",
        "The function $\\psi$ may be constructed in FEniCS by creating a vector-valued function in the function space $V$ and setting the value on the left boundary to $(1, 0)$ using a `DirichletBC` applied to the vector $\\Psi$ of degrees of freedom for the function $\\psi$. Summing over the degrees of freedom on the boundary may be expressed by taking the inner product of the vector $AU$ with the degrees of freedom $\\Psi$ of the function $\\psi$."
      ]
    },
    {
      "cell_type": "code",
      "metadata": {
        "id": "xLYzGw2MKSHJ",
        "colab_type": "code",
        "colab": {},
        "outputId": "17859bdd-32f1-481f-8f94-0a93fc00930e"
      },
      "source": [
        "# Create the finite element function psi\n",
        "psi = Function(V)\n",
        "bc = DirichletBC(V.sub(0), Constant(1), 'near(x[0], %.16g)' % xmin)\n",
        "PSI = psi.vector()\n",
        "bc.apply(PSI)\n",
        "psi_x, psi_y = psi.split()\n",
        "plot(psi_x)\n",
        "File('exercise7/psi_x.pvd') << psi_x\n",
        "\n",
        "# Alternative 1: Evaluate the form on the function psi\n",
        "F2 = -assemble(inner(sigma(u_h, E0, nu0), grad(psi))*dx(0) + inner(sigma(u_h, E1, nu1), grad(psi))*dx(1))\n",
        "print(\"F1 =\", F2)\n",
        "\n",
        "# Alternative 2: Apply the stiffness matrix\n",
        "A = assemble(a)\n",
        "U = u_h.vector()\n",
        "y = U.copy()\n",
        "A.mult(U, y)\n",
        "F1 = -y.inner(PSI)\n",
        "print(\"F2 =\", F1)"
      ],
      "execution_count": null,
      "outputs": [
        {
          "output_type": "stream",
          "text": [
            "Calling FFC just-in-time (JIT) compiler, this may take some time.\n",
            "F1 = 9.119101736994807\n",
            "F2 = 9.119101736994773\n"
          ],
          "name": "stdout"
        },
        {
          "output_type": "display_data",
          "data": {
            "image/png": "[encoded data removed]",
            "text/plain": [
              "<Figure size 432x288 with 1 Axes>"
            ]
          },
          "metadata": {
            "tags": []
          }
        }
      ]
    },
    {
      "cell_type": "markdown",
      "metadata": {
        "id": "RyYr8htsKSHP",
        "colab_type": "text"
      },
      "source": [
        "## Computing the strains\n",
        "To compute the total strains, we note that\n",
        "$$\n",
        "\\frac{1}{\\Omega} \\int_{\\Omega} \\varepsilon_{xx} \\,\\mathrm{d}x\\mathrm{d}y\n",
        "=\n",
        "\\frac{1}{y_{\\mathrm{max}} - y_{\\mathrm{min}}} \n",
        "\\int_{y_{\\mathrm{min}}}^{y_{\\mathrm{max}}} \\frac{u_x(x_{\\mathrm{max}}, y) - u_x(x_{\\mathrm{min}}, y)}{x_{\\mathrm{max}} - x_{\\mathrm{min}}} \\,\\mathrm{d}y.\n",
        "$$\n",
        "In other words, the average of $\\varepsilon_{yy}$ over the domain is equal to the average relative $x$-displacement. Similarly, the average of $\\varepsilon_{xx}$ over the domain is equal to the average relative $y$-displacement."
      ]
    },
    {
      "cell_type": "code",
      "metadata": {
        "id": "heIjM3SuKSHQ",
        "colab_type": "code",
        "colab": {},
        "outputId": "87e00074-0b16-466d-e90e-d865accc07dc"
      },
      "source": [
        "area = assemble(Constant(1)*dx) \n",
        "epsilon_xx = assemble(epsilon(u_h)[0,0]*dx) / area\n",
        "epsilon_yy = assemble(epsilon(u_h)[1,1]*dx) / area\n",
        "\n",
        "print('area =', area, ' should be equal to', (xmax - xmin)*(ymax - ymin))\n",
        "print('epsilon_xx =', epsilon_xx, ' should be equal to', strain)\n",
        "print('epsilon_yy =', epsilon_yy)"
      ],
      "execution_count": null,
      "outputs": [
        {
          "output_type": "stream",
          "text": [
            "Calling FFC just-in-time (JIT) compiler, this may take some time.\n",
            "Calling FFC just-in-time (JIT) compiler, this may take some time.\n",
            "Calling FFC just-in-time (JIT) compiler, this may take some time.\n",
            "area = 9685.866837637512  should be equal to 9685.866837637597\n",
            "epsilon_xx = 0.010000000000000111  should be equal to 0.01\n",
            "epsilon_yy = -0.0054988158492224465\n"
          ],
          "name": "stdout"
        }
      ]
    },
    {
      "cell_type": "markdown",
      "metadata": {
        "id": "fqmCoj9gKSHT",
        "colab_type": "text"
      },
      "source": [
        "## Computing the effective material stiffness and Poisson's ratio\n",
        "To compute the effective material stiffness $E$, we divide the reaction force by the area (length) of the left boundary to get the stress and then divide again by the strain.\n",
        "\n",
        "We similarly compute the effective Poisson's ratio as $\\nu = -\\varepsilon_{yy}/\\varepsilon_{xx}$."
      ]
    },
    {
      "cell_type": "code",
      "metadata": {
        "id": "vVUmN4OUKSHU",
        "colab_type": "code",
        "colab": {},
        "outputId": "b5cefada-9b23-40c5-a369-04463beb4a56"
      },
      "source": [
        "F = F1\n",
        "S = F / (ymax - ymin)\n",
        "E = S / epsilon_xx\n",
        "nu = - epsilon_yy / epsilon_xx\n",
        "\n",
        "print('E =', E, \"GPa\")\n",
        "print('nu =', nu)"
      ],
      "execution_count": null,
      "outputs": [
        {
          "output_type": "stream",
          "text": [
            "E = 9.344256625779627 GPa\n",
            "nu = 0.5498815849222385\n"
          ],
          "name": "stdout"
        }
      ]
    },
    {
      "cell_type": "markdown",
      "metadata": {
        "id": "o9bEhsV1KSHa",
        "colab_type": "text"
      },
      "source": [
        "### Postprocessing\n",
        "To postprocess the solution using an external postprocessor, for example Paraview, save the solution to VTK format (file suffix `.pvd`)."
      ]
    },
    {
      "cell_type": "code",
      "metadata": {
        "id": "ZXvBHkIoKSHb",
        "colab_type": "code",
        "colab": {}
      },
      "source": [
        "File('exercise7/solution.pvd') << u_h"
      ],
      "execution_count": null,
      "outputs": []
    },
    {
      "cell_type": "code",
      "metadata": {
        "id": "hsYW8FMtKSHe",
        "colab_type": "code",
        "colab": {}
      },
      "source": [
        ""
      ],
      "execution_count": null,
      "outputs": []
    }
  ]
}